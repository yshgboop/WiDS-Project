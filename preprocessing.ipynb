{
 "cells": [
  {
   "cell_type": "code",
   "execution_count": 20,
   "id": "1db8445e",
   "metadata": {},
   "outputs": [
    {
     "name": "stdout",
     "output_type": "stream",
     "text": [
      "The autoreload extension is already loaded. To reload it, use:\n",
      "  %reload_ext autoreload\n"
     ]
    }
   ],
   "source": [
    "import pandas as pd\n",
    "import numpy as np\n",
    "from Datapreprocessing import DataProcessor\n",
    "from matplotlib import pyplot as plt\n",
    "%load_ext autoreload\n",
    "%autoreload 2"
   ]
  },
  {
   "cell_type": "markdown",
   "id": "754fd800",
   "metadata": {},
   "source": [
    "## Read in and preprocess the data"
   ]
  },
  {
   "cell_type": "code",
   "execution_count": 21,
   "id": "1bac22d4",
   "metadata": {},
   "outputs": [],
   "source": [
    "train_folder = 'train_tsv1'\n",
    "test_folder = 'test_tsv1'\n",
    "train_metadata_path = 'metadata/training_metadata.csv'\n",
    "test_metadata_path = 'metadata/test_metadata.csv'"
   ]
  },
  {
   "cell_type": "code",
   "execution_count": 22,
   "id": "6b8870bf",
   "metadata": {},
   "outputs": [],
   "source": [
    "processor = DataProcessor(train_folder, test_folder, train_metadata_path, test_metadata_path)\n",
    "train_data, test_data = processor.prepare_datasets()"
   ]
  },
  {
   "cell_type": "code",
   "execution_count": 23,
   "id": "7d7a050b",
   "metadata": {},
   "outputs": [
    {
     "data": {
      "text/html": [
       "<div>\n",
       "<style scoped>\n",
       "    .dataframe tbody tr th:only-of-type {\n",
       "        vertical-align: middle;\n",
       "    }\n",
       "\n",
       "    .dataframe tbody tr th {\n",
       "        vertical-align: top;\n",
       "    }\n",
       "\n",
       "    .dataframe thead th {\n",
       "        text-align: right;\n",
       "    }\n",
       "</style>\n",
       "<table border=\"1\" class=\"dataframe\">\n",
       "  <thead>\n",
       "    <tr style=\"text-align: right;\">\n",
       "      <th></th>\n",
       "      <th>participant_id</th>\n",
       "      <th>correlation_id</th>\n",
       "      <th>correlation_value</th>\n",
       "      <th>age</th>\n",
       "      <th>sex</th>\n",
       "      <th>study_site</th>\n",
       "      <th>bmi</th>\n",
       "      <th>ethnicity</th>\n",
       "      <th>race</th>\n",
       "      <th>handedness</th>\n",
       "      <th>parent_1_education</th>\n",
       "      <th>parent_2_education</th>\n",
       "      <th>p_factor_fs</th>\n",
       "      <th>internalizing_fs</th>\n",
       "      <th>externalizing_fs</th>\n",
       "      <th>attention_fs</th>\n",
       "    </tr>\n",
       "  </thead>\n",
       "  <tbody>\n",
       "    <tr>\n",
       "      <th>0</th>\n",
       "      <td>NDAREE015WGU</td>\n",
       "      <td>corr_1</td>\n",
       "      <td>0.074628</td>\n",
       "      <td>13.35</td>\n",
       "      <td>Female</td>\n",
       "      <td>HBNsiteCBIC</td>\n",
       "      <td>19.1</td>\n",
       "      <td>Not_Hispanic_or_Latino</td>\n",
       "      <td>Other</td>\n",
       "      <td>Right</td>\n",
       "      <td>Complete_tertiary</td>\n",
       "      <td>Complete_tertiary</td>\n",
       "      <td>0.59</td>\n",
       "      <td>-0.15</td>\n",
       "      <td>0.29</td>\n",
       "      <td>-1.6</td>\n",
       "    </tr>\n",
       "    <tr>\n",
       "      <th>1</th>\n",
       "      <td>NDAREE015WGU</td>\n",
       "      <td>corr_2</td>\n",
       "      <td>0.673757</td>\n",
       "      <td>13.35</td>\n",
       "      <td>Female</td>\n",
       "      <td>HBNsiteCBIC</td>\n",
       "      <td>19.1</td>\n",
       "      <td>Not_Hispanic_or_Latino</td>\n",
       "      <td>Other</td>\n",
       "      <td>Right</td>\n",
       "      <td>Complete_tertiary</td>\n",
       "      <td>Complete_tertiary</td>\n",
       "      <td>0.59</td>\n",
       "      <td>-0.15</td>\n",
       "      <td>0.29</td>\n",
       "      <td>-1.6</td>\n",
       "    </tr>\n",
       "    <tr>\n",
       "      <th>2</th>\n",
       "      <td>NDAREE015WGU</td>\n",
       "      <td>corr_3</td>\n",
       "      <td>0.813541</td>\n",
       "      <td>13.35</td>\n",
       "      <td>Female</td>\n",
       "      <td>HBNsiteCBIC</td>\n",
       "      <td>19.1</td>\n",
       "      <td>Not_Hispanic_or_Latino</td>\n",
       "      <td>Other</td>\n",
       "      <td>Right</td>\n",
       "      <td>Complete_tertiary</td>\n",
       "      <td>Complete_tertiary</td>\n",
       "      <td>0.59</td>\n",
       "      <td>-0.15</td>\n",
       "      <td>0.29</td>\n",
       "      <td>-1.6</td>\n",
       "    </tr>\n",
       "    <tr>\n",
       "      <th>3</th>\n",
       "      <td>NDAREE015WGU</td>\n",
       "      <td>corr_4</td>\n",
       "      <td>0.725489</td>\n",
       "      <td>13.35</td>\n",
       "      <td>Female</td>\n",
       "      <td>HBNsiteCBIC</td>\n",
       "      <td>19.1</td>\n",
       "      <td>Not_Hispanic_or_Latino</td>\n",
       "      <td>Other</td>\n",
       "      <td>Right</td>\n",
       "      <td>Complete_tertiary</td>\n",
       "      <td>Complete_tertiary</td>\n",
       "      <td>0.59</td>\n",
       "      <td>-0.15</td>\n",
       "      <td>0.29</td>\n",
       "      <td>-1.6</td>\n",
       "    </tr>\n",
       "    <tr>\n",
       "      <th>4</th>\n",
       "      <td>NDAREE015WGU</td>\n",
       "      <td>corr_5</td>\n",
       "      <td>0.823861</td>\n",
       "      <td>13.35</td>\n",
       "      <td>Female</td>\n",
       "      <td>HBNsiteCBIC</td>\n",
       "      <td>19.1</td>\n",
       "      <td>Not_Hispanic_or_Latino</td>\n",
       "      <td>Other</td>\n",
       "      <td>Right</td>\n",
       "      <td>Complete_tertiary</td>\n",
       "      <td>Complete_tertiary</td>\n",
       "      <td>0.59</td>\n",
       "      <td>-0.15</td>\n",
       "      <td>0.29</td>\n",
       "      <td>-1.6</td>\n",
       "    </tr>\n",
       "  </tbody>\n",
       "</table>\n",
       "</div>"
      ],
      "text/plain": [
       "  participant_id correlation_id  correlation_value    age     sex  \\\n",
       "0   NDAREE015WGU         corr_1           0.074628  13.35  Female   \n",
       "1   NDAREE015WGU         corr_2           0.673757  13.35  Female   \n",
       "2   NDAREE015WGU         corr_3           0.813541  13.35  Female   \n",
       "3   NDAREE015WGU         corr_4           0.725489  13.35  Female   \n",
       "4   NDAREE015WGU         corr_5           0.823861  13.35  Female   \n",
       "\n",
       "    study_site   bmi               ethnicity   race handedness  \\\n",
       "0  HBNsiteCBIC  19.1  Not_Hispanic_or_Latino  Other      Right   \n",
       "1  HBNsiteCBIC  19.1  Not_Hispanic_or_Latino  Other      Right   \n",
       "2  HBNsiteCBIC  19.1  Not_Hispanic_or_Latino  Other      Right   \n",
       "3  HBNsiteCBIC  19.1  Not_Hispanic_or_Latino  Other      Right   \n",
       "4  HBNsiteCBIC  19.1  Not_Hispanic_or_Latino  Other      Right   \n",
       "\n",
       "  parent_1_education parent_2_education  p_factor_fs  internalizing_fs  \\\n",
       "0  Complete_tertiary  Complete_tertiary         0.59             -0.15   \n",
       "1  Complete_tertiary  Complete_tertiary         0.59             -0.15   \n",
       "2  Complete_tertiary  Complete_tertiary         0.59             -0.15   \n",
       "3  Complete_tertiary  Complete_tertiary         0.59             -0.15   \n",
       "4  Complete_tertiary  Complete_tertiary         0.59             -0.15   \n",
       "\n",
       "   externalizing_fs  attention_fs  \n",
       "0              0.29          -1.6  \n",
       "1              0.29          -1.6  \n",
       "2              0.29          -1.6  \n",
       "3              0.29          -1.6  \n",
       "4              0.29          -1.6  "
      ]
     },
     "execution_count": 23,
     "metadata": {},
     "output_type": "execute_result"
    }
   ],
   "source": [
    "train_data.head()"
   ]
  },
  {
   "cell_type": "code",
   "execution_count": 24,
   "id": "6ab13713",
   "metadata": {},
   "outputs": [
    {
     "data": {
      "text/plain": [
       "(21969600, 16)"
      ]
     },
     "execution_count": 24,
     "metadata": {},
     "output_type": "execute_result"
    }
   ],
   "source": [
    "train_data.shape"
   ]
  },
  {
   "cell_type": "code",
   "execution_count": 25,
   "id": "bf70e775",
   "metadata": {},
   "outputs": [
    {
     "data": {
      "text/plain": [
       "(9432600, 15)"
      ]
     },
     "execution_count": 25,
     "metadata": {},
     "output_type": "execute_result"
    }
   ],
   "source": [
    "test_data.shape"
   ]
  },
  {
   "cell_type": "code",
   "execution_count": 26,
   "id": "d514ffc3",
   "metadata": {},
   "outputs": [],
   "source": [
    "train_data.to_csv('train_data.csv', index=False)\n",
    "test_data.to_csv('test_data.csv', index=False)"
   ]
  },
  {
   "cell_type": "markdown",
   "id": "cddcf122",
   "metadata": {},
   "source": [
    "## EDA and Missing Values"
   ]
  },
  {
   "cell_type": "code",
   "execution_count": 27,
   "id": "75c298a7",
   "metadata": {},
   "outputs": [
    {
     "name": "stdout",
     "output_type": "stream",
     "text": [
      "bmi                    358200\n",
      "ethnicity             2169100\n",
      "race                  3343200\n",
      "parent_1_education    3641700\n",
      "parent_2_education     437800\n",
      "dtype: int64\n"
     ]
    }
   ],
   "source": [
    "na_counts = processor.train_data.isna().sum()\n",
    "columns_with_na = na_counts[na_counts > 0]\n",
    "print(columns_with_na)"
   ]
  },
  {
   "cell_type": "code",
   "execution_count": 17,
   "id": "5c3a2bce",
   "metadata": {},
   "outputs": [
    {
     "name": "stdout",
     "output_type": "stream",
     "text": [
      "<class 'pandas.core.frame.DataFrame'>\n",
      "RangeIndex: 1104 entries, 0 to 1103\n",
      "Columns: 19914 entries, participant_id to attention_fs\n",
      "dtypes: float64(19906), object(8)\n",
      "memory usage: 167.7+ MB\n"
     ]
    }
   ],
   "source": [
    "processor.train_data.info()"
   ]
  },
  {
   "cell_type": "code",
   "execution_count": 18,
   "id": "c0ddebb4",
   "metadata": {},
   "outputs": [
    {
     "name": "stdout",
     "output_type": "stream",
     "text": [
      "Object columns in the training data:\n",
      " - participant_id\n",
      " - sex\n",
      " - study_site\n",
      " - ethnicity\n",
      " - race\n",
      " - handedness\n",
      " - parent_1_education\n",
      " - parent_2_education\n"
     ]
    }
   ],
   "source": [
    "# Check for the 8 object columns\n",
    "object_columns = processor.train_data.select_dtypes(include=['object']).columns\n",
    "print(\"Object columns in the training data:\")\n",
    "for col in object_columns:\n",
    "    print(f\" - {col}\")"
   ]
  }
 ],
 "metadata": {
  "kernelspec": {
   "display_name": "wids",
   "language": "python",
   "name": "python3"
  },
  "language_info": {
   "codemirror_mode": {
    "name": "ipython",
    "version": 3
   },
   "file_extension": ".py",
   "mimetype": "text/x-python",
   "name": "python",
   "nbconvert_exporter": "python",
   "pygments_lexer": "ipython3",
   "version": "3.12.9"
  }
 },
 "nbformat": 4,
 "nbformat_minor": 5
}
